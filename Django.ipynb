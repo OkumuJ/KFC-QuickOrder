{
 "cells": [
  {
   "cell_type": "markdown",
   "metadata": {},
   "source": [
    "# Creating Firts Django Projects \n",
    "\n",
    "## Python env Installation and activation \n",
    "checking the python version \n",
    ">python --version \n",
    "\n",
    "checkin pip version \n",
    ">pip --version \n",
    "\n",
    "### Creating new environment (Using the bash)\n",
    ">python -m venv [Name of the virtual environment]\n",
    "\n",
    "### Activating the environment\n",
    ">source [venv name]/Scripts/activate\n",
    "\n",
    "### Django Installation \n",
    ">python -m pip install django\n",
    "\n",
    "checking the version \n",
    ">django-admin --version\n",
    "\n",
    ">django-admin startproject [project name]\n",
    "\n",
    "### Running the project for the first time\n",
    ">python manage.py runserver\n",
    "\n",
    "### Start the app\n",
    ">django-admin startapp [name of the app]\n"
   ]
  },
  {
   "cell_type": "code",
   "execution_count": null,
   "metadata": {},
   "outputs": [],
   "source": []
  }
 ],
 "metadata": {
  "language_info": {
   "name": "python"
  }
 },
 "nbformat": 4,
 "nbformat_minor": 2
}
